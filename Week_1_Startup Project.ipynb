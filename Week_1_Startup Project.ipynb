{
 "cells": [
  {
   "cell_type": "code",
   "execution_count": null,
   "metadata": {},
   "outputs": [],
   "source": [
    "##### This is the ipyb file for the 1st week project #####\n",
    "##########################################################\n",
    "##===== Initialization =====##\n",
    "#----- Import the necessary libs -----#\n",
    "import pandas as pd\n",
    "import numpy as np\n",
    "print('All libs have been imported successfully.')\n",
    "\n",
    "##===== Main program =====##\n",
    "print('Hello Capstone Project Course!')\n",
    "##===== Main program END =====##\n"
   ]
  }
 ],
 "metadata": {
  "kernelspec": {
   "display_name": "Python 3",
   "language": "python",
   "name": "python3"
  },
  "language_info": {
   "codemirror_mode": {
    "name": "ipython",
    "version": 3
   },
   "file_extension": ".py",
   "mimetype": "text/x-python",
   "name": "python",
   "nbconvert_exporter": "python",
   "pygments_lexer": "ipython3",
   "version": "3.6.5"
  }
 },
 "nbformat": 4,
 "nbformat_minor": 2
}
